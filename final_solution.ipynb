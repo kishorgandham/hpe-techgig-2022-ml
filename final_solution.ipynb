{
 "cells": [
  {
   "cell_type": "code",
   "execution_count": 1,
   "id": "a3942857",
   "metadata": {},
   "outputs": [],
   "source": [
    "import numpy as np\n",
    "import pandas as pd\n",
    "from sklearn.ensemble import ExtraTreesClassifier\n",
    "from sklearn.model_selection import StratifiedKFold"
   ]
  },
  {
   "cell_type": "code",
   "execution_count": 2,
   "id": "3cae4398",
   "metadata": {},
   "outputs": [
    {
     "name": "stdout",
     "output_type": "stream",
     "text": [
      "0.9690675600223339\n"
     ]
    }
   ],
   "source": [
    "#get training csv file as pandas dataframe\n",
    "df = pd.read_csv(\"Phising_Training_Dataset.csv\")\n",
    "\n",
    "#drop column key as it is not useful for training the model\n",
    "df = df.drop(columns=[\"key\"])\n",
    "\n",
    "#use result column as as the predicted variable\n",
    "y = df[[\"Result\"]]\n",
    "\n",
    "# use 0, 1 for result variable. While generating the output submission file, we will convert 0 back to -1\n",
    "y = y.replace(-1, 0)\n",
    "y = np.array(y).ravel()\n",
    "\n",
    "# use all columns other than key and result as features\n",
    "x = df.drop(columns=[\"Result\"])\n",
    "# replace -1 feature with 2 as some algos like lighgbm are sensitive to this\n",
    "x = x.replace(-1, 2)\n",
    "x = np.array(x)\n",
    "\n",
    "# create 5 splits for out of fold cross validation\n",
    "kf = StratifiedKFold(n_splits=5, shuffle=True, random_state=0)\n",
    "\n",
    "# array to hold trained models\n",
    "models = []\n",
    "scores = []\n",
    "for train_index, test_index in kf.split(x,y):\n",
    "    model = ExtraTreesClassifier(random_state=48)\n",
    "    x_train = x[train_index]\n",
    "    y_train = y[train_index]\n",
    "    x_test = x[test_index]\n",
    "    y_test = y[test_index]\n",
    "    \n",
    "    #train each model with 80% data and use other 20% for cross validation accuracy prediction\n",
    "    model.fit(x_train, y_train)\n",
    "    scores.append(model.score(x_test, y_test))\n",
    "    models.append(model)\n",
    "    \n",
    "#print validation accuracy as mean of 5 models. This is used to choose the algo\n",
    "print(sum(scores)/5.0)"
   ]
  },
  {
   "cell_type": "code",
   "execution_count": 3,
   "id": "07f3050c",
   "metadata": {},
   "outputs": [],
   "source": [
    "# read submission fataset\n",
    "df = pd.read_csv(\"Phising_Testing_Dataset.csv\")\n",
    "\n",
    "# store keys, we cannot drop them as in training as we need this later for generating output csv\n",
    "x_idx = list(df[\"key\"])\n",
    "\n",
    "# take remaining 30 columns as test set features\n",
    "x_sub = df.drop(columns=[\"key\"])\n",
    "# replace -1 with 2 as we did in training\n",
    "x_sub = x_sub.replace(-1, 2)\n",
    "x_sub = np.array(x_sub)\n",
    "\n",
    "# compute the class probablities from the 5 models and compute mean\n",
    "y_sub = np.zeros((x_sub.shape[0], 2))\n",
    "for model in models:\n",
    "    y_sub += model.predict_proba(x_sub)\n",
    "y_sub = y_sub / len(models)\n",
    "\n",
    "# apply a threshold of 0.5 on the predicted probablity to get to final labels\n",
    "y_pred = [1 if x[0] < x[1] else -1 for x in y_sub]\n",
    "\n",
    "# generate output dataframe and generate csv file for submission\n",
    "df_sub = pd.DataFrame([(a, b) for a, b in zip(x_idx,y_pred)], columns=['key','Result'])\n",
    "df_sub.to_csv(\"out.csv\", index=False)"
   ]
  }
 ],
 "metadata": {
  "kernelspec": {
   "display_name": "Python 3 (ipykernel)",
   "language": "python",
   "name": "python3"
  },
  "language_info": {
   "codemirror_mode": {
    "name": "ipython",
    "version": 3
   },
   "file_extension": ".py",
   "mimetype": "text/x-python",
   "name": "python",
   "nbconvert_exporter": "python",
   "pygments_lexer": "ipython3",
   "version": "3.9.12"
  }
 },
 "nbformat": 4,
 "nbformat_minor": 5
}
